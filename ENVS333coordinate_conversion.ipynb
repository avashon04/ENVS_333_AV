{
 "cells": [
  {
   "cell_type": "code",
   "execution_count": 57,
   "id": "2533b9b1-b653-49c0-920e-c6a7cdf4e9dc",
   "metadata": {
    "tags": []
   },
   "outputs": [],
   "source": [
    "def latfunction():\n",
    "    latdir = input('Enter the Latitude Direction North or South')\n",
    "    if latdir == 'North':\n",
    "        latdir = 1\n",
    "    if latdir == 'South':\n",
    "        latdir = -1\n",
    "    latdeg = int(input('Enter the latitude degrees'))\n",
    "    latmin = int(input('Enter the latitude minutes'))\n",
    "    latsec = float(input('Enter the latitude seconds'))\n",
    "    latcoords= latdir* (latdeg+(latmin+(latsec/60))/60)\n",
    "    return latcoords"
   ]
  },
  {
   "cell_type": "code",
   "execution_count": 44,
   "id": "14b66d1c-5f80-47c5-a8bf-ad3bfb0c9be0",
   "metadata": {
    "tags": []
   },
   "outputs": [],
   "source": [
    "def longfunction():\n",
    "    longdir = input('Enter the Longitude Direction East or West')\n",
    "    if longdir == 'East':\n",
    "        longdirnum = 1\n",
    "    if longdir == 'West':\n",
    "        longdirnum = -1\n",
    "    longdeg = int(input('Enter the longitude degrees'))\n",
    "    longmin = int(input('Enter the longitude minutes'))\n",
    "    longsec = float(input('Enter the longitude seconds'))\n",
    "    longcoords= longdirnum* (longdeg+(longmin+(longsec/60))/60)\n",
    "    return longcoords "
   ]
  },
  {
   "cell_type": "markdown",
   "id": "a77f5594-5b39-47bc-8bae-7a8c6ef7e503",
   "metadata": {},
   "source": [
    "# OR"
   ]
  },
  {
   "cell_type": "code",
   "execution_count": 1,
   "id": "2fbe6904-bc0d-4198-b36f-240931cdee48",
   "metadata": {
    "tags": []
   },
   "outputs": [],
   "source": [
    "def degdec(latdeg,latmin,latsec,latdir,longdeg,longmin,longsec,longdir):\n",
    "    latdegdec = latdir * (latdeg+(latmin+ latsec/60.)/60.)\n",
    "    longdegdec= longdir * (longdeg+(longmin+longsec/60.)/60)\n",
    "    return latdegdec,longdegdec"
   ]
  },
  {
   "cell_type": "code",
   "execution_count": 2,
   "id": "32e3e098-ce3c-41a9-af79-b97f4b7a7b9c",
   "metadata": {
    "tags": []
   },
   "outputs": [
    {
     "data": {
      "text/plain": [
       "(42.218469444444445, -71.11789722222223)"
      ]
     },
     "execution_count": 2,
     "metadata": {},
     "output_type": "execute_result"
    }
   ],
   "source": [
    "degdec(42,13,6.49,1,71,7,4.43,-1)"
   ]
  },
  {
   "cell_type": "code",
   "execution_count": 3,
   "id": "486196fe-9ec0-497e-a2b9-389fd31e24a2",
   "metadata": {
    "tags": []
   },
   "outputs": [
    {
     "data": {
      "text/plain": [
       "(42.21698888888889, -71.11949166666666)"
      ]
     },
     "execution_count": 3,
     "metadata": {},
     "output_type": "execute_result"
    }
   ],
   "source": [
    "degdec(42,13,1.16,1,71,7,10.17,-1)"
   ]
  },
  {
   "cell_type": "code",
   "execution_count": 4,
   "id": "00928803-7a72-4dea-b9d1-63fa6fd57a52",
   "metadata": {
    "tags": []
   },
   "outputs": [
    {
     "data": {
      "text/plain": [
       "(42.21599166666667, -71.11974166666667)"
      ]
     },
     "execution_count": 4,
     "metadata": {},
     "output_type": "execute_result"
    }
   ],
   "source": [
    "degdec(42,12,57.57,1,71,7,11.07,-1)"
   ]
  },
  {
   "cell_type": "code",
   "execution_count": 5,
   "id": "84d0fd1c-ebde-42ce-81bb-5b58b012fe4b",
   "metadata": {
    "tags": []
   },
   "outputs": [
    {
     "data": {
      "text/plain": [
       "(42.2147, -71.11979166666667)"
      ]
     },
     "execution_count": 5,
     "metadata": {},
     "output_type": "execute_result"
    }
   ],
   "source": [
    "degdec(42,12,52.92,1,71,7,11.25,-1)"
   ]
  },
  {
   "cell_type": "code",
   "execution_count": 6,
   "id": "90f59d17-5203-45cd-9ad0-eb2782d55860",
   "metadata": {
    "tags": []
   },
   "outputs": [
    {
     "data": {
      "text/plain": [
       "(42.217863888888886, -71.11626666666666)"
      ]
     },
     "execution_count": 6,
     "metadata": {},
     "output_type": "execute_result"
    }
   ],
   "source": [
    "degdec(42,13,4.31,1,71,6,58.56,-1)"
   ]
  },
  {
   "cell_type": "code",
   "execution_count": 7,
   "id": "bf74b930-9b21-45d3-b62b-d58cdbf434b4",
   "metadata": {
    "tags": []
   },
   "outputs": [
    {
     "data": {
      "text/plain": [
       "(42.21547777777778, -71.11490277777777)"
      ]
     },
     "execution_count": 7,
     "metadata": {},
     "output_type": "execute_result"
    }
   ],
   "source": [
    "degdec(42,12,55.72,1,71,6,53.65,-1)"
   ]
  },
  {
   "cell_type": "code",
   "execution_count": 8,
   "id": "affba202-1c95-4d33-8016-650062f56616",
   "metadata": {
    "tags": []
   },
   "outputs": [
    {
     "data": {
      "text/plain": [
       "(42.21308888888889, -71.11430833333333)"
      ]
     },
     "execution_count": 8,
     "metadata": {},
     "output_type": "execute_result"
    }
   ],
   "source": [
    "degdec(42,12,47.12,1,71,6,51.51,-1)"
   ]
  },
  {
   "cell_type": "code",
   "execution_count": 9,
   "id": "f2b091f8-36cf-4174-82b0-a0ffce5e6e9f",
   "metadata": {
    "tags": []
   },
   "outputs": [
    {
     "data": {
      "text/plain": [
       "(42.212066666666665, -71.11616111111111)"
      ]
     },
     "execution_count": 9,
     "metadata": {},
     "output_type": "execute_result"
    }
   ],
   "source": [
    "degdec(42,12,43.44,1,71,6,58.18,-1)"
   ]
  },
  {
   "cell_type": "code",
   "execution_count": 3,
   "id": "07654353-0183-478d-8f8e-7d912610061e",
   "metadata": {
    "tags": []
   },
   "outputs": [
    {
     "name": "stdin",
     "output_type": "stream",
     "text": [
      "Enter the Latitude Direction North or South North\n",
      "Enter the latitude degrees 42\n",
      "Enter the latitude minutes 13\n",
      "Enter the latitude seconds 6.49\n"
     ]
    },
    {
     "data": {
      "text/plain": [
       "42.218469444444445"
      ]
     },
     "execution_count": 3,
     "metadata": {},
     "output_type": "execute_result"
    }
   ],
   "source": [
    "latfunction()"
   ]
  },
  {
   "cell_type": "code",
   "execution_count": 56,
   "id": "28725936-caf1-40ae-aac7-3aca8481fb02",
   "metadata": {},
   "outputs": [
    {
     "name": "stdin",
     "output_type": "stream",
     "text": [
      "Enter the Longitude Direction East or West West\n",
      "Enter the longitude degrees 71\n",
      "Enter the longitude minutes 7\n",
      "Enter the longitude seconds 4.43\n"
     ]
    },
    {
     "data": {
      "text/plain": [
       "-71.11789722222223"
      ]
     },
     "execution_count": 56,
     "metadata": {},
     "output_type": "execute_result"
    }
   ],
   "source": [
    "longfunction()"
   ]
  },
  {
   "cell_type": "code",
   "execution_count": 5,
   "id": "26006b92-3d08-42a2-b53d-8b60b60a787c",
   "metadata": {},
   "outputs": [
    {
     "name": "stdin",
     "output_type": "stream",
     "text": [
      "Enter the Latitude Direction North or South North\n",
      "Enter the latitude degrees 42\n",
      "Enter the latitude minutes 13\n",
      "Enter the latitude seconds 1.16\n"
     ]
    },
    {
     "data": {
      "text/plain": [
       "42.21698888888889"
      ]
     },
     "execution_count": 5,
     "metadata": {},
     "output_type": "execute_result"
    }
   ],
   "source": [
    "latfunction()"
   ]
  },
  {
   "cell_type": "code",
   "execution_count": 6,
   "id": "fec6dc9f-1e47-47f7-8ff9-1fdcfffea065",
   "metadata": {
    "tags": []
   },
   "outputs": [
    {
     "name": "stdin",
     "output_type": "stream",
     "text": [
      "Enter the Longitude Direction East or West West\n",
      "Enter the longitude degrees 71\n",
      "Enter the longitude minutes 7\n",
      "Enter the longitude seconds 10.17\n"
     ]
    },
    {
     "data": {
      "text/plain": [
       "-71.11949166666666"
      ]
     },
     "execution_count": 6,
     "metadata": {},
     "output_type": "execute_result"
    }
   ],
   "source": [
    "longfunction()"
   ]
  },
  {
   "cell_type": "code",
   "execution_count": 7,
   "id": "8645978b-3e5c-42d8-936f-b91fefb3c8c4",
   "metadata": {
    "tags": []
   },
   "outputs": [
    {
     "name": "stdin",
     "output_type": "stream",
     "text": [
      "Enter the Latitude Direction North or South North\n",
      "Enter the latitude degrees 42\n",
      "Enter the latitude minutes 12\n",
      "Enter the latitude seconds 57.57\n"
     ]
    },
    {
     "data": {
      "text/plain": [
       "42.21599166666667"
      ]
     },
     "execution_count": 7,
     "metadata": {},
     "output_type": "execute_result"
    }
   ],
   "source": [
    "latfunction()"
   ]
  },
  {
   "cell_type": "code",
   "execution_count": 8,
   "id": "0051d218-fd63-42e0-a2fd-9e79a46955f9",
   "metadata": {
    "tags": []
   },
   "outputs": [
    {
     "name": "stdin",
     "output_type": "stream",
     "text": [
      "Enter the Longitude Direction East or West West\n",
      "Enter the longitude degrees 71\n",
      "Enter the longitude minutes 7\n",
      "Enter the longitude seconds 11.07\n"
     ]
    },
    {
     "data": {
      "text/plain": [
       "-71.11974166666667"
      ]
     },
     "execution_count": 8,
     "metadata": {},
     "output_type": "execute_result"
    }
   ],
   "source": [
    "longfunction()"
   ]
  },
  {
   "cell_type": "code",
   "execution_count": 10,
   "id": "dac44c4a-bbe3-417f-b0fa-606d52d6f7cf",
   "metadata": {
    "tags": []
   },
   "outputs": [
    {
     "name": "stdin",
     "output_type": "stream",
     "text": [
      "Enter the Latitude Direction North or South North\n",
      "Enter the latitude degrees 42\n",
      "Enter the latitude minutes 12\n",
      "Enter the latitude seconds 52.92\n"
     ]
    },
    {
     "data": {
      "text/plain": [
       "42.2147"
      ]
     },
     "execution_count": 10,
     "metadata": {},
     "output_type": "execute_result"
    }
   ],
   "source": [
    "latfunction()"
   ]
  },
  {
   "cell_type": "code",
   "execution_count": 11,
   "id": "1639b3f6-4be0-4404-bda1-d2691e8e686a",
   "metadata": {
    "tags": []
   },
   "outputs": [
    {
     "name": "stdin",
     "output_type": "stream",
     "text": [
      "Enter the Longitude Direction East or West West\n",
      "Enter the longitude degrees 71\n",
      "Enter the longitude minutes 7\n",
      "Enter the longitude seconds 11.25\n"
     ]
    },
    {
     "data": {
      "text/plain": [
       "-71.11979166666667"
      ]
     },
     "execution_count": 11,
     "metadata": {},
     "output_type": "execute_result"
    }
   ],
   "source": [
    "longfunction()"
   ]
  },
  {
   "cell_type": "code",
   "execution_count": 12,
   "id": "814ca127-9da3-4630-bf0b-f41a34468e8c",
   "metadata": {
    "tags": []
   },
   "outputs": [
    {
     "name": "stdin",
     "output_type": "stream",
     "text": [
      "Enter the Latitude Direction North or South North\n",
      "Enter the latitude degrees 42\n",
      "Enter the latitude minutes 13\n",
      "Enter the latitude seconds 4.31\n"
     ]
    },
    {
     "data": {
      "text/plain": [
       "42.217863888888886"
      ]
     },
     "execution_count": 12,
     "metadata": {},
     "output_type": "execute_result"
    }
   ],
   "source": [
    "latfunction()"
   ]
  },
  {
   "cell_type": "code",
   "execution_count": 13,
   "id": "99fa92f0-b2d1-4f87-ac51-535ec719845e",
   "metadata": {
    "tags": []
   },
   "outputs": [
    {
     "name": "stdin",
     "output_type": "stream",
     "text": [
      "Enter the Longitude Direction East or West West\n",
      "Enter the longitude degrees 71\n",
      "Enter the longitude minutes 6\n",
      "Enter the longitude seconds 58.56\n"
     ]
    },
    {
     "data": {
      "text/plain": [
       "-71.11626666666666"
      ]
     },
     "execution_count": 13,
     "metadata": {},
     "output_type": "execute_result"
    }
   ],
   "source": [
    "longfunction()"
   ]
  },
  {
   "cell_type": "code",
   "execution_count": 14,
   "id": "dd0fa2dc-55ca-4b12-baea-3d5812d8d4b6",
   "metadata": {
    "tags": []
   },
   "outputs": [
    {
     "name": "stdin",
     "output_type": "stream",
     "text": [
      "Enter the Latitude Direction North or South North\n",
      "Enter the latitude degrees 42\n",
      "Enter the latitude minutes 12\n",
      "Enter the latitude seconds 55.72\n"
     ]
    },
    {
     "data": {
      "text/plain": [
       "42.21547777777778"
      ]
     },
     "execution_count": 14,
     "metadata": {},
     "output_type": "execute_result"
    }
   ],
   "source": [
    "latfunction()"
   ]
  },
  {
   "cell_type": "code",
   "execution_count": 15,
   "id": "18d7e15d-2431-40a1-af5a-4113b6925d92",
   "metadata": {
    "tags": []
   },
   "outputs": [
    {
     "name": "stdin",
     "output_type": "stream",
     "text": [
      "Enter the Longitude Direction East or West West\n",
      "Enter the longitude degrees 71\n",
      "Enter the longitude minutes 6\n",
      "Enter the longitude seconds 53.65\n"
     ]
    },
    {
     "data": {
      "text/plain": [
       "-71.11490277777777"
      ]
     },
     "execution_count": 15,
     "metadata": {},
     "output_type": "execute_result"
    }
   ],
   "source": [
    "longfunction()"
   ]
  },
  {
   "cell_type": "code",
   "execution_count": 16,
   "id": "250802bc-9b00-401e-812e-4664755f175b",
   "metadata": {
    "tags": []
   },
   "outputs": [
    {
     "name": "stdin",
     "output_type": "stream",
     "text": [
      "Enter the Latitude Direction North or South North\n",
      "Enter the latitude degrees 42\n",
      "Enter the latitude minutes 12\n",
      "Enter the latitude seconds 47.12\n"
     ]
    },
    {
     "data": {
      "text/plain": [
       "42.21308888888889"
      ]
     },
     "execution_count": 16,
     "metadata": {},
     "output_type": "execute_result"
    }
   ],
   "source": [
    "latfunction()"
   ]
  },
  {
   "cell_type": "code",
   "execution_count": 17,
   "id": "bb2a609c-dada-4faa-95f2-46607420947f",
   "metadata": {
    "tags": []
   },
   "outputs": [
    {
     "name": "stdin",
     "output_type": "stream",
     "text": [
      "Enter the Longitude Direction East or West West\n",
      "Enter the longitude degrees 71\n",
      "Enter the longitude minutes 6\n",
      "Enter the longitude seconds 51.51\n"
     ]
    },
    {
     "data": {
      "text/plain": [
       "-71.11430833333333"
      ]
     },
     "execution_count": 17,
     "metadata": {},
     "output_type": "execute_result"
    }
   ],
   "source": [
    "longfunction()"
   ]
  },
  {
   "cell_type": "code",
   "execution_count": 18,
   "id": "832aeee3-6b35-46e6-9783-66f175f4ddbb",
   "metadata": {
    "tags": []
   },
   "outputs": [
    {
     "name": "stdin",
     "output_type": "stream",
     "text": [
      "Enter the Latitude Direction North or South North\n",
      "Enter the latitude degrees 42\n",
      "Enter the latitude minutes 12\n",
      "Enter the latitude seconds 43.44\n"
     ]
    },
    {
     "data": {
      "text/plain": [
       "42.212066666666665"
      ]
     },
     "execution_count": 18,
     "metadata": {},
     "output_type": "execute_result"
    }
   ],
   "source": [
    "latfunction()"
   ]
  },
  {
   "cell_type": "code",
   "execution_count": 19,
   "id": "12284e0b-9f2d-457d-b021-1f0207ae01ac",
   "metadata": {
    "tags": []
   },
   "outputs": [
    {
     "name": "stdin",
     "output_type": "stream",
     "text": [
      "Enter the Longitude Direction East or West West\n",
      "Enter the longitude degrees 71\n",
      "Enter the longitude minutes 6\n",
      "Enter the longitude seconds 58.18\n"
     ]
    },
    {
     "data": {
      "text/plain": [
       "-71.11616111111111"
      ]
     },
     "execution_count": 19,
     "metadata": {},
     "output_type": "execute_result"
    }
   ],
   "source": [
    "longfunction()"
   ]
  },
  {
   "cell_type": "code",
   "execution_count": null,
   "id": "963bc9f6-2975-4132-8858-e2187087214a",
   "metadata": {},
   "outputs": [],
   "source": []
  }
 ],
 "metadata": {
  "kernelspec": {
   "display_name": "Python 3 (ipykernel)",
   "language": "python",
   "name": "python3"
  },
  "language_info": {
   "codemirror_mode": {
    "name": "ipython",
    "version": 3
   },
   "file_extension": ".py",
   "mimetype": "text/x-python",
   "name": "python",
   "nbconvert_exporter": "python",
   "pygments_lexer": "ipython3",
   "version": "3.11.4"
  }
 },
 "nbformat": 4,
 "nbformat_minor": 5
}

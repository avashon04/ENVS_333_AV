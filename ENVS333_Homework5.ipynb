{
 "cells": [
  {
   "cell_type": "code",
   "execution_count": 1,
   "id": "7b7774c6",
   "metadata": {},
   "outputs": [
    {
     "name": "stdout",
     "output_type": "stream",
     "text": [
      "My module is running\n"
     ]
    }
   ],
   "source": [
    "import converter as cvt"
   ]
  },
  {
   "cell_type": "code",
   "execution_count": 2,
   "id": "444c8d0a",
   "metadata": {},
   "outputs": [
    {
     "name": "stdout",
     "output_type": "stream",
     "text": [
      "Enter the temp you want converted to degrees Celsius: 32\n"
     ]
    },
    {
     "data": {
      "text/plain": [
       "0.0"
      ]
     },
     "execution_count": 2,
     "metadata": {},
     "output_type": "execute_result"
    }
   ],
   "source": [
    "cvt.f2c()"
   ]
  },
  {
   "cell_type": "code",
   "execution_count": 3,
   "id": "1e541073",
   "metadata": {},
   "outputs": [
    {
     "name": "stdout",
     "output_type": "stream",
     "text": [
      "Enter the temp you want converted to degrees Fahrenheit: 0\n"
     ]
    },
    {
     "data": {
      "text/plain": [
       "32.0"
      ]
     },
     "execution_count": 3,
     "metadata": {},
     "output_type": "execute_result"
    }
   ],
   "source": [
    "cvt.c2f()"
   ]
  },
  {
   "cell_type": "code",
   "execution_count": 4,
   "id": "5bb57692",
   "metadata": {},
   "outputs": [
    {
     "name": "stdout",
     "output_type": "stream",
     "text": [
      "Enter the length you want converted to Meters: 1\n"
     ]
    },
    {
     "data": {
      "text/plain": [
       "0.30478512648582745"
      ]
     },
     "execution_count": 4,
     "metadata": {},
     "output_type": "execute_result"
    }
   ],
   "source": [
    "cvt.ft2m()"
   ]
  },
  {
   "cell_type": "code",
   "execution_count": 5,
   "id": "946d0848",
   "metadata": {},
   "outputs": [
    {
     "name": "stdout",
     "output_type": "stream",
     "text": [
      "Enter the length you want converted to Feet: 3\n"
     ]
    },
    {
     "data": {
      "text/plain": [
       "9.843"
      ]
     },
     "execution_count": 5,
     "metadata": {},
     "output_type": "execute_result"
    }
   ],
   "source": [
    "cvt.m2ft()"
   ]
  },
  {
   "cell_type": "code",
   "execution_count": 6,
   "id": "bf3c0459",
   "metadata": {},
   "outputs": [
    {
     "name": "stdout",
     "output_type": "stream",
     "text": [
      "Enter the weight you want converted to pounds: 45\n"
     ]
    },
    {
     "data": {
      "text/plain": [
       "99.00000000000001"
      ]
     },
     "execution_count": 6,
     "metadata": {},
     "output_type": "execute_result"
    }
   ],
   "source": [
    "cvt.kg2lb()"
   ]
  },
  {
   "cell_type": "code",
   "execution_count": 7,
   "id": "21059dff",
   "metadata": {},
   "outputs": [
    {
     "data": {
      "text/plain": [
       "(42.218469444444445, -71.11789722222223)"
      ]
     },
     "execution_count": 7,
     "metadata": {},
     "output_type": "execute_result"
    }
   ],
   "source": [
    "cvt.degdec(42,13,6.49,1,71,7,4.43,-1)"
   ]
  },
  {
   "cell_type": "code",
   "execution_count": null,
   "id": "61dc3304",
   "metadata": {},
   "outputs": [],
   "source": []
  }
 ],
 "metadata": {
  "kernelspec": {
   "display_name": "Python 3 (ipykernel)",
   "language": "python",
   "name": "python3"
  },
  "language_info": {
   "codemirror_mode": {
    "name": "ipython",
    "version": 3
   },
   "file_extension": ".py",
   "mimetype": "text/x-python",
   "name": "python",
   "nbconvert_exporter": "python",
   "pygments_lexer": "ipython3",
   "version": "3.11.4"
  }
 },
 "nbformat": 4,
 "nbformat_minor": 5
}
